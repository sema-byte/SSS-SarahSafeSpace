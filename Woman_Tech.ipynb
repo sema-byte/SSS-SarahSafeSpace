{
  "nbformat": 4,
  "nbformat_minor": 0,
  "metadata": {
    "colab": {
      "provenance": [],
      "gpuType": "T4"
    },
    "kernelspec": {
      "name": "python3",
      "display_name": "Python 3"
    },
    "language_info": {
      "name": "python"
    },
    "accelerator": "GPU"
  },
  "cells": [
    {
      "cell_type": "code",
      "source": [
        "%pip install -qU langchain-google-genai -qU langchain_community -qU pypdf  -qU chromadb -qU gradio"
      ],
      "metadata": {
        "collapsed": true,
        "id": "HNcfUrajQMlu"
      },
      "execution_count": null,
      "outputs": []
    },
    {
      "cell_type": "code",
      "source": [
        "import os\n",
        "from langchain.document_loaders import PyPDFLoader, TextLoader, DirectoryLoader\n",
        "from langchain.text_splitter import RecursiveCharacterTextSplitter\n",
        "from langchain_google_genai import ChatGoogleGenerativeAI, GoogleGenerativeAIEmbeddings\n",
        "from langchain.vectorstores import Chroma\n",
        "from langchain.memory import ConversationBufferMemory\n",
        "from langchain.chains import ConversationalRetrievalChain\n",
        "from langchain.memory.chat_message_histories import ChatMessageHistory\n",
        "from langchain.chains import StuffDocumentsChain, LLMChain\n",
        "from langchain.prompts import PromptTemplate\n",
        "import gradio as gr"
      ],
      "metadata": {
        "id": "qYj08F8Hajmq"
      },
      "execution_count": null,
      "outputs": []
    },
    {
      "cell_type": "code",
      "source": [
        "import getpass\n",
        "\n",
        "if \"GOOGLE_API_KEY\" not in os.environ:\n",
        "    os.environ[\"GOOGLE_API_KEY\"] = getpass.getpass(\"Enter your Google AI API key: \")"
      ],
      "metadata": {
        "id": "ZuYdr_t7QMic",
        "colab": {
          "base_uri": "https://localhost:8080/"
        },
        "outputId": "26bf27ba-5405-4209-9dfe-ca517da471e6"
      },
      "execution_count": null,
      "outputs": [
        {
          "name": "stdout",
          "output_type": "stream",
          "text": [
            "Enter your Google AI API key: ··········\n"
          ]
        }
      ]
    },
    {
      "cell_type": "code",
      "source": [
        "from langchain_google_genai import ChatGoogleGenerativeAI\n",
        "\n",
        "# Initialize LLM\n",
        "llm = ChatGoogleGenerativeAI(\n",
        "    model=\"gemini-1.5-pro\",\n",
        "    temperature=0.3,\n",
        "    max_tokens=None,\n",
        "    timeout=None,\n",
        "    max_retries=2,\n",
        ")"
      ],
      "metadata": {
        "id": "dNE8vwTgQMd8"
      },
      "execution_count": null,
      "outputs": []
    },
    {
      "cell_type": "code",
      "source": [
        "CONDITIONED_PROMPT = \"\"\"\n",
        "You are Sarah, a supportive guide combining compassion with practical expertise to help women in challenging situations. You provide both emotional validation and concrete action steps.\n",
        "Core Principles\n",
        "1. Balanced Support Approach\n",
        "\n",
        "Begin with brief emotional validation (2-3 sentences)\n",
        "Transition smoothly to practical steps\n",
        "Maintain a warm but focused tone throughout\n",
        "End with an offer for continued support\n",
        "\n",
        "2. Structured Response Framework\n",
        "LISTEN Phase (Brief but Essential):\n",
        "\n",
        "Acknowledge emotions\n",
        "Validate experiences\n",
        "Express belief in their strength\n",
        "\n",
        "ACTION Phase (Main Focus):\n",
        "\n",
        "Safety assessment\n",
        "Immediate steps needed\n",
        "Available resources\n",
        "Clear, numbered action items\n",
        "Legal rights and options\n",
        "Documentation guidance\n",
        "\n",
        "EMPOWER Phase:\n",
        "\n",
        "Highlight their courage\n",
        "Outline next steps\n",
        "Provide relevant contact information\n",
        "\n",
        "3. Communication Guidelines\n",
        "Supportive Phrases (Use Sparingly):\n",
        "\n",
        "\"Your safety matters most\"\n",
        "\"This isn't your fault\"\n",
        "\"There are options available\"\n",
        "\"You've shown courage by reaching out\"\n",
        "\n",
        "Practical Language:\n",
        "\n",
        "\"Here are three immediate steps you can take...\"\n",
        "\"Let's focus on your safety first...\"\n",
        "\"These resources are available right now...\"\n",
        "\"Consider documenting the following...\"\n",
        "\n",
        "4. Safety Protocol\n",
        "If immediate danger is indicated:\n",
        "\n",
        "Clearly state: \"Your immediate safety is the priority\"\n",
        "Provide relevant emergency numbers\n",
        "Share quick safety steps\n",
        "List local shelter information\n",
        "Outline documentation needs\n",
        "\n",
        "5. Resource Integration\n",
        "For each response:\n",
        "\n",
        "Include 2-3 most relevant resources\n",
        "Prioritize local support services\n",
        "Provide specific contact information\n",
        "List operating hours when available\n",
        "\n",
        "6. Follow-up Framework\n",
        "End each response with:\n",
        "\n",
        "Next concrete step\n",
        "Relevant emergency numbers\n",
        "Offer to explore additional options\n",
        "\n",
        "Response Template\n",
        "\n",
        "Brief Emotional Acknowledgment\n",
        "\"I hear how [challenging/frightening/difficult] this situation is...\"\n",
        "Safety Check\n",
        "\"Let's first ensure your immediate safety...\"\n",
        "Practical Steps\n",
        "\"Here are specific steps you can take right now:\n",
        "[Immediate action]\n",
        "[Next step]\n",
        "[Additional step]\"\n",
        "Resource Connection\n",
        "\"These resources are available to help:\n",
        "\n",
        "\n",
        "[Local resource with contact]\n",
        "[Emergency number]\n",
        "[Support service]\"\n",
        "\n",
        "\n",
        "Empowering Close\n",
        "\"You've taken an important step by reaching out. The next immediate step is [specific action]. Would you like to discuss any of these options in more detail?\"\n",
        "\n",
        "Special Considerations\n",
        "\n",
        "Crisis Situations\n",
        "\n",
        "\n",
        "Prioritize immediate safety\n",
        "Provide emergency numbers first\n",
        "Give clear, simple instructions\n",
        "Focus on next 24 hours\n",
        "\n",
        "\n",
        "Non-Crisis Support\n",
        "\n",
        "\n",
        "Balance validation with action\n",
        "Provide preventive resources\n",
        "Include self-care strategies\n",
        "Offer long-term planning guidance\n",
        "\n",
        "\n",
        "Documentation Guidance\n",
        "\n",
        "\n",
        "List essential documents\n",
        "Provide safety storage options\n",
        "Include digital security tips\n",
        "Outline legal documentation needs\n",
        "\n",
        "if the woman thanks you and try to close the subject you just say iam here to help you any time don't hesitiate to tell me\n",
        "if the woman says hello you just say hello i hope everything is okay tell me , please introduce your self , what is your name and where are you from?\n",
        "\n",
        "\n",
        "Remember: Always adapt the response based on the urgency and specific needs of the situation while maintaining a balance between emotional support and practical action steps.\n",
        "Retrieved Information:\n",
        "{context}\n",
        "\n",
        "Context from previous conversation:\n",
        "{chat_history}\n",
        "\n",
        "Current situation: {question}\n",
        "\n",
        "\"\"\""
      ],
      "metadata": {
        "id": "pMIUszqm2KQW"
      },
      "execution_count": null,
      "outputs": []
    },
    {
      "cell_type": "code",
      "source": [
        "# Load PDF\n",
        "def load_pdf(pdf_path):\n",
        "    loader = PyPDFLoader(pdf_path)\n",
        "    documents = loader.load()\n",
        "    return documents"
      ],
      "metadata": {
        "id": "NCj-v6KsmIUW"
      },
      "execution_count": null,
      "outputs": []
    },
    {
      "cell_type": "code",
      "source": [
        "def create_safety_assistant():\n",
        "    # Load PDF and create splits (your existing code)\n",
        "    pdf_path = \"/content/RAG.pdf\"\n",
        "    documents = load_pdf(pdf_path)\n",
        "    text_splitter = RecursiveCharacterTextSplitter(\n",
        "        chunk_size=1000,\n",
        "        chunk_overlap=200,\n",
        "        length_function=len,\n",
        "    )\n",
        "    splits = text_splitter.split_documents(documents)\n",
        "\n",
        "    # Create embeddings and vectorstore (your existing code)\n",
        "    embeddings = GoogleGenerativeAIEmbeddings(model=\"models/embedding-001\")\n",
        "    vectorstore = Chroma.from_documents(\n",
        "        documents=splits,\n",
        "        embedding=embeddings,\n",
        "        persist_directory=\"/content/chroma_db\"\n",
        "    )\n",
        "\n",
        "    # Initialize memory (your existing code)\n",
        "    memory = ConversationBufferMemory(\n",
        "    memory_key=\"chat_history\",\n",
        "    return_messages=True,\n",
        "    output_key='answer'\n",
        ")\n",
        "\n",
        "    # Modify the prompt template to include context\n",
        "    PROMPT = PromptTemplate(\n",
        "        input_variables=[\"chat_history\", \"context\", \"question\"],\n",
        "        template=CONDITIONED_PROMPT\n",
        "    )\n",
        "\n",
        "    # Create chain with memory and custom prompt\n",
        "    qa_chain = ConversationalRetrievalChain.from_llm(\n",
        "        llm=llm,\n",
        "        retriever=vectorstore.as_retriever(search_kwargs={\"k\": 3}),\n",
        "        memory=memory,\n",
        "        combine_docs_chain_kwargs={\"prompt\": PROMPT},\n",
        "        return_source_documents=False,\n",
        "        verbose=True\n",
        "    )\n",
        "\n",
        "    return qa_chain"
      ],
      "metadata": {
        "id": "cpxuGzCbk9tP"
      },
      "execution_count": null,
      "outputs": []
    },
    {
      "cell_type": "code",
      "source": [
        "def create_interface(qa_chain):\n",
        "    def respond(message, history):\n",
        "        response = qa_chain({\"question\": message})\n",
        "        return response[\"answer\"]\n",
        "\n",
        "    chat_interface = gr.ChatInterface(\n",
        "        fn=respond,\n",
        "        title=\"🌸  Sarah Safe Space Assistant\",\n",
        "        description=\"\"\"\n",
        "        Hello, I'm Sarah. 🌸\n",
        "\n",
        "        I’m here to help you understand more about your situation and to offer you support if you’re feeling unsure, confused, or hurt. You can ask me questions, share your feelings, or just talk – I'm here to listen, with no judgment. Together, we’ll explore what’s going on and help you recognize if anything feels unhealthy or harmful.\n",
        "\n",
        "        If you’re going through something difficult, please remember: you’re not alone. I’m here to help guide you, one step at a time, and to provide options for finding peace and safety.\n",
        "\n",
        "        Whenever you’re ready, we can begin. 💬\n",
        "        \"\"\",\n",
        "        examples=[\n",
        "            \"Someone at work keeps making uncomfortable comments about my appearance...\",\n",
        "            \"My friend's behavior has been making me feel unsafe lately...\",\n",
        "            \"I'm not sure if this situation is normal or if I should be concerned...\",\n",
        "            \"Someone has been following me on my way home...\",\n",
        "        ],\n",
        "        theme=gr.themes.Soft(\n",
        "            primary_hue=\"pink\",\n",
        "            secondary_hue=\"rose\",\n",
        "        )\n",
        "    )\n",
        "\n",
        "    return chat_interface\n",
        "\n",
        "\n"
      ],
      "metadata": {
        "id": "34zs-KJUk9rL"
      },
      "execution_count": null,
      "outputs": []
    },
    {
      "cell_type": "code",
      "source": [
        "# Usage\n",
        "if __name__ == \"__main__\":\n",
        "    # Create assistant with safety-focused memory\n",
        "    qa_chain = create_safety_assistant()\n",
        "\n",
        "    # Create and launch interface\n",
        "    chat_interface = create_interface(qa_chain)\n",
        "    chat_interface.launch(share=True)"
      ],
      "metadata": {
        "colab": {
          "base_uri": "https://localhost:8080/",
          "height": 645
        },
        "id": "y99JD1Vnk9of",
        "outputId": "8e663fab-bc42-4616-e9b8-1a330f8de0ea"
      },
      "execution_count": null,
      "outputs": [
        {
          "output_type": "stream",
          "name": "stderr",
          "text": [
            "/usr/local/lib/python3.10/dist-packages/gradio/components/chatbot.py:229: UserWarning: The 'tuples' format for chatbot messages is deprecated and will be removed in a future version of Gradio. Please set type='messages' instead, which uses openai-style 'role' and 'content' keys.\n",
            "  warnings.warn(\n"
          ]
        },
        {
          "output_type": "stream",
          "name": "stdout",
          "text": [
            "Colab notebook detected. To show errors in colab notebook, set debug=True in launch()\n",
            "* Running on public URL: https://2e7de1d8074c3d93ad.gradio.live\n",
            "\n",
            "This share link expires in 72 hours. For free permanent hosting and GPU upgrades, run `gradio deploy` from the terminal in the working directory to deploy to Hugging Face Spaces (https://huggingface.co/spaces)\n"
          ]
        },
        {
          "output_type": "display_data",
          "data": {
            "text/plain": [
              "<IPython.core.display.HTML object>"
            ],
            "text/html": [
              "<div><iframe src=\"https://2e7de1d8074c3d93ad.gradio.live\" width=\"100%\" height=\"500\" allow=\"autoplay; camera; microphone; clipboard-read; clipboard-write;\" frameborder=\"0\" allowfullscreen></iframe></div>"
            ]
          },
          "metadata": {}
        }
      ]
    },
    {
      "cell_type": "code",
      "source": [],
      "metadata": {
        "id": "gcb48l2t1c5c"
      },
      "execution_count": null,
      "outputs": []
    }
  ]
}
